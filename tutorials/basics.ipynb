{
 "cells": [
  {
   "cell_type": "code",
   "execution_count": 2,
   "id": "ffd8804a-ebe6-44fa-8b1d-41dfbb54fa7d",
   "metadata": {},
   "outputs": [],
   "source": [
    "from qiskit import *\n",
    "\n",
    "import runningman as rm"
   ]
  },
  {
   "cell_type": "code",
   "execution_count": 3,
   "id": "04049e79-bda1-41d9-8712-b9e56f05092e",
   "metadata": {},
   "outputs": [],
   "source": [
    "provider = rm.RunningManProvider()"
   ]
  },
  {
   "cell_type": "code",
   "execution_count": 14,
   "id": "67053842-9b75-455f-b579-d0963a2befb5",
   "metadata": {},
   "outputs": [],
   "source": [
    "backend = provider.backend('ibm_brisbane')"
   ]
  },
  {
   "cell_type": "code",
   "execution_count": 15,
   "id": "a4dba1e6-de40-49a0-8f92-ef4350940d96",
   "metadata": {},
   "outputs": [],
   "source": [
    "qc = QuantumCircuit(5)\n",
    "qc.h(2)\n",
    "qc.cx(2, 1)\n",
    "qc.cx(1, 0)\n",
    "qc.cx(2, 3)\n",
    "qc.cx(3, 4)\n",
    "qc.measure_all()"
   ]
  },
  {
   "cell_type": "code",
   "execution_count": 16,
   "id": "4731ed4e-fbdf-42de-8527-92a036a26049",
   "metadata": {},
   "outputs": [],
   "source": [
    "trans_qc = transpile(qc, backend)"
   ]
  },
  {
   "cell_type": "code",
   "execution_count": 17,
   "id": "0551f5ad-61d1-4cda-acd2-3b4854b86e4a",
   "metadata": {},
   "outputs": [],
   "source": [
    "job = backend.run(trans_qc, shots=1234)"
   ]
  },
  {
   "cell_type": "code",
   "execution_count": null,
   "id": "e4d33d30-4b45-45d1-aa0f-8df165523bbc",
   "metadata": {},
   "outputs": [],
   "source": [
    "counts = job.result().get_counts()\n",
    "counts"
   ]
  },
  {
   "cell_type": "code",
   "execution_count": null,
   "id": "9b5d45bc-24fa-4ae7-b14d-9d1feb4b6468",
   "metadata": {},
   "outputs": [],
   "source": []
  }
 ],
 "metadata": {
  "kernelspec": {
   "display_name": "Python 3 (ipykernel)",
   "language": "python",
   "name": "python3"
  },
  "language_info": {
   "codemirror_mode": {
    "name": "ipython",
    "version": 3
   },
   "file_extension": ".py",
   "mimetype": "text/x-python",
   "name": "python",
   "nbconvert_exporter": "python",
   "pygments_lexer": "ipython3",
   "version": "3.12.6"
  }
 },
 "nbformat": 4,
 "nbformat_minor": 5
}
