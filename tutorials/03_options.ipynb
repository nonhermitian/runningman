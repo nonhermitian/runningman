{
 "cells": [
  {
   "cell_type": "markdown",
   "id": "39b66cec-f07d-407e-b25c-c676dbca5f03",
   "metadata": {},
   "source": [
    "# Setting backend options\n",
    "\n",
    "A `RunningManBackend` has three sets of options that can be used to configure circuit execution.  Lets see how to use those:"
   ]
  },
  {
   "cell_type": "code",
   "execution_count": 1,
   "id": "0bc14ab0-167d-47ec-ae34-78ce310d1bc9",
   "metadata": {},
   "outputs": [],
   "source": [
    "from qiskit import *\n",
    "import runningman as rm"
   ]
  },
  {
   "cell_type": "code",
   "execution_count": 2,
   "id": "1c15342a-265e-410c-8d90-338df6e82476",
   "metadata": {},
   "outputs": [],
   "source": [
    "provider = rm.RunningManProvider()"
   ]
  },
  {
   "cell_type": "code",
   "execution_count": 3,
   "id": "2a0d3c04-37d6-42d2-8276-ede5d805fe25",
   "metadata": {},
   "outputs": [],
   "source": [
    "backend = provider.backend('ibm_brisbane')"
   ]
  },
  {
   "cell_type": "markdown",
   "id": "f26508fc-8569-42a4-a684-fe5cbd8a65dd",
   "metadata": {},
   "source": [
    "## Retriving execution and suppression options"
   ]
  },
  {
   "cell_type": "code",
   "execution_count": 4,
   "id": "50b4bec9-c3c8-4bd7-9727-fe456557d1cc",
   "metadata": {},
   "outputs": [
    {
     "data": {
      "text/plain": [
       "Execution Options\n",
       "==================================================\n",
       "⏵execution\n",
       "  default_shots          4096\n",
       "  experimental           None\n",
       "  init_qubits            True\n",
       "  max_execution_time     None\n",
       "  meas_type              'classified'\n",
       "  rep_delay              None\n",
       "⏵environment\n",
       "  log_level              'WARNING'\n",
       "  callback               None\n",
       "  job_tags               None\n",
       "  private                False\n",
       "⏵simulator\n",
       "  noise_model            None\n",
       "  seed_simulator         None\n",
       "  coupling_map           None\n",
       "  basis_gates            None"
      ]
     },
     "execution_count": 4,
     "metadata": {},
     "output_type": "execute_result"
    }
   ],
   "source": [
    "options = backend.get_execution_options()\n",
    "options"
   ]
  },
  {
   "cell_type": "code",
   "execution_count": 5,
   "id": "42f80dfb-837d-4ecc-8777-db6693f40cb7",
   "metadata": {},
   "outputs": [
    {
     "data": {
      "text/plain": [
       "Suppression Options\n",
       "==================================================\n",
       "⏵dynamical_decoupling\n",
       "  enable                       False\n",
       "  sequence_type                'XY4'\n",
       "  extra_slack_distribution     'middle'\n",
       "  scheduling_method            'alap'\n",
       "⏵twirling\n",
       "  enable_gates                 False\n",
       "  enable_measure               False\n",
       "  num_randomizations           'auto'\n",
       "  shots_per_randomization      'auto'\n",
       "  strategy                     'active-accum'"
      ]
     },
     "execution_count": 5,
     "metadata": {},
     "output_type": "execute_result"
    }
   ],
   "source": [
    "sup_options = backend.get_suppression_options()\n",
    "sup_options"
   ]
  },
  {
   "cell_type": "markdown",
   "id": "70f5ee2d-d104-4340-9ce0-3bfdccaf5257",
   "metadata": {},
   "source": [
    "These options are just dictionaries, and can easily be set.  I can modify the returned classes directly and pass them back to the backend:"
   ]
  },
  {
   "cell_type": "code",
   "execution_count": 6,
   "id": "6207a832-ba56-42e6-8654-5e72d370f56f",
   "metadata": {},
   "outputs": [
    {
     "data": {
      "text/plain": [
       "Suppression Options\n",
       "==================================================\n",
       "⏵dynamical_decoupling\n",
       "  enable                       True\n",
       "  sequence_type                'XY4'\n",
       "  extra_slack_distribution     'middle'\n",
       "  scheduling_method            'alap'\n",
       "⏵twirling\n",
       "  enable_gates                 False\n",
       "  enable_measure               False\n",
       "  num_randomizations           'auto'\n",
       "  shots_per_randomization      'auto'\n",
       "  strategy                     'active-accum'"
      ]
     },
     "execution_count": 6,
     "metadata": {},
     "output_type": "execute_result"
    }
   ],
   "source": [
    "sup_options['dynamical_decoupling']['enable'] = True\n",
    "backend.set_suppression_options(**sup_options)\n",
    "backend.get_suppression_options()"
   ]
  },
  {
   "cell_type": "markdown",
   "id": "e0af2428-8af2-4f6d-b2a1-7cc1e2fcbf9f",
   "metadata": {},
   "source": [
    "or I can set them in the setter:"
   ]
  },
  {
   "cell_type": "code",
   "execution_count": 8,
   "id": "62549125-5753-495f-921b-6b353ff859d4",
   "metadata": {},
   "outputs": [
    {
     "data": {
      "text/plain": [
       "Suppression Options\n",
       "==================================================\n",
       "⏵dynamical_decoupling\n",
       "  enable                       False\n",
       "  sequence_type                'XY4'\n",
       "  extra_slack_distribution     'middle'\n",
       "  scheduling_method            'alap'\n",
       "⏵twirling\n",
       "  enable_gates                 False\n",
       "  enable_measure               False\n",
       "  num_randomizations           'auto'\n",
       "  shots_per_randomization      'auto'\n",
       "  strategy                     'active-accum'"
      ]
     },
     "execution_count": 8,
     "metadata": {},
     "output_type": "execute_result"
    }
   ],
   "source": [
    "backend.set_suppression_options(dynamical_decoupling={'enable':False})\n",
    "backend.get_suppression_options()"
   ]
  },
  {
   "cell_type": "markdown",
   "id": "fabb0e96-ff49-43f7-a6a4-800e2b17af9a",
   "metadata": {},
   "source": [
    "## Example\n",
    "\n",
    "Here we execute three jobs in a `Batch` and show how one can manipulate the number of shots"
   ]
  },
  {
   "cell_type": "code",
   "execution_count": 46,
   "id": "26d12093-821c-4a3c-ab07-cc0d255f489b",
   "metadata": {},
   "outputs": [],
   "source": [
    "qc = QuantumCircuit(5)\n",
    "qc.h(2)\n",
    "qc.cx(2, 1)\n",
    "qc.cx(1, 0)\n",
    "qc.cx(2, 3)\n",
    "qc.cx(3, 4)\n",
    "qc.measure_all()"
   ]
  },
  {
   "cell_type": "code",
   "execution_count": 47,
   "id": "170ef302-1b5c-4f86-b25d-949353934e40",
   "metadata": {},
   "outputs": [],
   "source": [
    "trans_qc = transpile(qc, backend)"
   ]
  },
  {
   "cell_type": "code",
   "execution_count": 48,
   "id": "1d17db88-7606-4a41-bd29-aae70f5c8891",
   "metadata": {},
   "outputs": [],
   "source": [
    "jobs = []\n",
    "backend.set_mode('batch')\n",
    "# default 4096 shots\n",
    "jobs.append(backend.run(trans_qc))\n",
    "# overloaded 1234 shots\n",
    "jobs.append(backend.run(trans_qc, shots=1234))\n",
    "# set 4321 shots\n",
    "backend.set_execution_options(execution={'default_shots':4321})\n",
    "jobs.append(backend.run(trans_qc))\n",
    "backend.close_mode()"
   ]
  },
  {
   "cell_type": "code",
   "execution_count": 49,
   "id": "bfd46aa2-6eb6-47da-8b91-e7ef0ee25f8c",
   "metadata": {},
   "outputs": [
    {
     "data": {
      "text/plain": [
       "[4096, 1234, 4321]"
      ]
     },
     "execution_count": 49,
     "metadata": {},
     "output_type": "execute_result"
    }
   ],
   "source": [
    "[sum(job.result().get_counts().values()) for job in jobs]"
   ]
  },
  {
   "cell_type": "code",
   "execution_count": null,
   "id": "072b4248-bc24-43a0-87d4-a61103e135d7",
   "metadata": {},
   "outputs": [],
   "source": []
  }
 ],
 "metadata": {
  "kernelspec": {
   "display_name": "Python 3 (ipykernel)",
   "language": "python",
   "name": "python3"
  },
  "language_info": {
   "codemirror_mode": {
    "name": "ipython",
    "version": 3
   },
   "file_extension": ".py",
   "mimetype": "text/x-python",
   "name": "python",
   "nbconvert_exporter": "python",
   "pygments_lexer": "ipython3",
   "version": "3.12.3"
  }
 },
 "nbformat": 4,
 "nbformat_minor": 5
}
