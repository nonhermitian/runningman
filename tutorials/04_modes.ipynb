{
 "cells": [
  {
   "cell_type": "markdown",
   "id": "84ded6fa-bb0f-4328-b40c-07e30b639b45",
   "metadata": {},
   "source": [
    "# Jobs from modes and getting previous modes\n",
    "\n",
    "Jobs are automatically attached to a mode, if any, and can be retrieved from the mode itself"
   ]
  },
  {
   "cell_type": "markdown",
   "id": "6b6151ae-5828-4bc3-8aaf-d9ac66e69375",
   "metadata": {},
   "source": [
    "## Jobs from modes"
   ]
  },
  {
   "cell_type": "code",
   "execution_count": 1,
   "id": "3d30144a-572e-46e7-a8f8-b8fa1d8c82c7",
   "metadata": {},
   "outputs": [],
   "source": [
    "from qiskit import *\n",
    "import runningman as rm"
   ]
  },
  {
   "cell_type": "code",
   "execution_count": 2,
   "id": "896c9911-e581-49ab-ab8f-a3b54a1454bb",
   "metadata": {},
   "outputs": [],
   "source": [
    "provider = rm.RunningManProvider()"
   ]
  },
  {
   "cell_type": "code",
   "execution_count": 3,
   "id": "fed744b0-a96c-4b4f-adf9-0fd02f814424",
   "metadata": {},
   "outputs": [],
   "source": [
    "backend = provider.backend('ibm_brisbane')"
   ]
  },
  {
   "cell_type": "code",
   "execution_count": 4,
   "id": "072f4f1f-4318-4e2e-890b-a827217bb33a",
   "metadata": {},
   "outputs": [],
   "source": [
    "qc = QuantumCircuit(2)\n",
    "qc.h(0)\n",
    "qc.cx(0,1)\n",
    "qc.measure_all()"
   ]
  },
  {
   "cell_type": "code",
   "execution_count": 5,
   "id": "821cc7b4-11f7-4780-8d83-aca6a5c4597f",
   "metadata": {},
   "outputs": [],
   "source": [
    "trans_qc = transpile(qc, backend)"
   ]
  },
  {
   "cell_type": "code",
   "execution_count": 6,
   "id": "ec96861c-afac-4d61-8fa0-de6e8d77526d",
   "metadata": {},
   "outputs": [
    {
     "data": {
      "text/plain": [
       "<RunningManMode('batch', mode_id='czcq7kehfwp00088batg'>"
      ]
     },
     "execution_count": 6,
     "metadata": {},
     "output_type": "execute_result"
    }
   ],
   "source": [
    "mode = backend.set_mode('batch')\n",
    "mode"
   ]
  },
  {
   "cell_type": "code",
   "execution_count": 7,
   "id": "44563c04-1f2e-4f2d-83f2-e3429f7040eb",
   "metadata": {},
   "outputs": [],
   "source": [
    "for _ in range(5):\n",
    "    job = backend.run(trans_qc)\n",
    "backend.clear_mode()"
   ]
  },
  {
   "cell_type": "markdown",
   "id": "58d32956-9459-4916-8a5e-55fe9edf401b",
   "metadata": {},
   "source": [
    "The number of jobs can be found from the length of the mode"
   ]
  },
  {
   "cell_type": "code",
   "execution_count": 8,
   "id": "8f4ffc16-f531-450f-9d0c-66038fb7385c",
   "metadata": {},
   "outputs": [
    {
     "data": {
      "text/plain": [
       "5"
      ]
     },
     "execution_count": 8,
     "metadata": {},
     "output_type": "execute_result"
    }
   ],
   "source": [
    "len(mode)"
   ]
  },
  {
   "cell_type": "markdown",
   "id": "9f9b1c43-cc53-401c-9b25-6474b6788ab4",
   "metadata": {},
   "source": [
    "The mode can be iterated and sliced for jobs"
   ]
  },
  {
   "cell_type": "code",
   "execution_count": 9,
   "id": "04fee668-d36c-4bd8-80fd-8bbe184a2e65",
   "metadata": {},
   "outputs": [
    {
     "name": "stdout",
     "output_type": "stream",
     "text": [
      "<RunningManJob('czcq7metp60g008hf9jg', backend='ibm_brisbane', mode_id='czcq7kehfwp00088batg')>\n",
      "<RunningManJob('czcq7myr3jrg008paav0', backend='ibm_brisbane', mode_id='czcq7kehfwp00088batg')>\n",
      "<RunningManJob('czcq7neb7tt0008gjax0', backend='ibm_brisbane', mode_id='czcq7kehfwp00088batg')>\n",
      "<RunningManJob('czcq7nphfwp00088baw0', backend='ibm_brisbane', mode_id='czcq7kehfwp00088batg')>\n",
      "<RunningManJob('czcq7pe4spc000878zkg', backend='ibm_brisbane', mode_id='czcq7kehfwp00088batg')>\n"
     ]
    }
   ],
   "source": [
    "for job in mode:\n",
    "    print(job)"
   ]
  },
  {
   "cell_type": "code",
   "execution_count": 10,
   "id": "e0ff35ab-7626-4c59-9fe1-8ae6de0e99cd",
   "metadata": {},
   "outputs": [
    {
     "data": {
      "text/plain": [
       "[<RunningManJob('czcq7nphfwp00088baw0', backend='ibm_brisbane', mode_id='czcq7kehfwp00088batg')>,\n",
       " <RunningManJob('czcq7pe4spc000878zkg', backend='ibm_brisbane', mode_id='czcq7kehfwp00088batg')>]"
      ]
     },
     "execution_count": 10,
     "metadata": {},
     "output_type": "execute_result"
    }
   ],
   "source": [
    "mode[3:]"
   ]
  },
  {
   "cell_type": "markdown",
   "id": "fa3dfdaf-d1a6-4b13-b82e-0a5299aa64f9",
   "metadata": {},
   "source": [
    "Jobs themselves are stored in the `mode.jobs` attribute:"
   ]
  },
  {
   "cell_type": "code",
   "execution_count": 11,
   "id": "21865e5a-20ed-470d-8290-61319272c9d7",
   "metadata": {},
   "outputs": [
    {
     "data": {
      "text/plain": [
       "[<RunningManJob('czcq7metp60g008hf9jg', backend='ibm_brisbane', mode_id='czcq7kehfwp00088batg')>,\n",
       " <RunningManJob('czcq7myr3jrg008paav0', backend='ibm_brisbane', mode_id='czcq7kehfwp00088batg')>,\n",
       " <RunningManJob('czcq7neb7tt0008gjax0', backend='ibm_brisbane', mode_id='czcq7kehfwp00088batg')>,\n",
       " <RunningManJob('czcq7nphfwp00088baw0', backend='ibm_brisbane', mode_id='czcq7kehfwp00088batg')>,\n",
       " <RunningManJob('czcq7pe4spc000878zkg', backend='ibm_brisbane', mode_id='czcq7kehfwp00088batg')>]"
      ]
     },
     "execution_count": 11,
     "metadata": {},
     "output_type": "execute_result"
    }
   ],
   "source": [
    "mode.jobs"
   ]
  },
  {
   "cell_type": "markdown",
   "id": "1fb15a88-02ce-4f63-ab9c-4e17e7d1db84",
   "metadata": {},
   "source": [
    "## Getting previous modes\n",
    "\n",
    "It is possible to retrive a previous mode from the provider.  This mode will also contain the jobs that were submitted to the mode:"
   ]
  },
  {
   "cell_type": "code",
   "execution_count": 12,
   "id": "8255f630-09d3-4738-ae6e-d4b3c714b4ff",
   "metadata": {},
   "outputs": [
    {
     "data": {
      "text/plain": [
       "<RunningManMode('batch', mode_id='cxfg3qpvw7kg008s1sfg'>"
      ]
     },
     "execution_count": 12,
     "metadata": {},
     "output_type": "execute_result"
    }
   ],
   "source": [
    "prev_mode = provider.mode_from_id('cxfg3qpvw7kg008s1sfg')\n",
    "prev_mode"
   ]
  },
  {
   "cell_type": "code",
   "execution_count": 13,
   "id": "c3af2b09-a293-4614-a159-0f3b02b25392",
   "metadata": {},
   "outputs": [
    {
     "data": {
      "text/plain": [
       "[<RunningManJob('cxfg3rffdnwg008s8g90', backend='ibm_brisbane', mode_id='cxfg3qpvw7kg008s1sfg')>,\n",
       " <RunningManJob('cxfg3s73ej4g008g1770', backend='ibm_brisbane', mode_id='cxfg3qpvw7kg008s1sfg')>,\n",
       " <RunningManJob('cxfg3t7gcckg008saav0', backend='ibm_brisbane', mode_id='cxfg3qpvw7kg008s1sfg')>,\n",
       " <RunningManJob('cxfg3tqgcckg008saavg', backend='ibm_brisbane', mode_id='cxfg3qpvw7kg008s1sfg')>,\n",
       " <RunningManJob('cxfg3vfvw7kg008s1sh0', backend='ibm_brisbane', mode_id='cxfg3qpvw7kg008s1sfg')>]"
      ]
     },
     "execution_count": 13,
     "metadata": {},
     "output_type": "execute_result"
    }
   ],
   "source": [
    "prev_mode[:]"
   ]
  },
  {
   "cell_type": "code",
   "execution_count": null,
   "id": "f1d8ae0e-1fa7-4148-ae3b-38b518183ddf",
   "metadata": {},
   "outputs": [],
   "source": []
  }
 ],
 "metadata": {
  "kernelspec": {
   "display_name": "Python 3 (ipykernel)",
   "language": "python",
   "name": "python3"
  },
  "language_info": {
   "codemirror_mode": {
    "name": "ipython",
    "version": 3
   },
   "file_extension": ".py",
   "mimetype": "text/x-python",
   "name": "python",
   "nbconvert_exporter": "python",
   "pygments_lexer": "ipython3",
   "version": "3.12.9"
  }
 },
 "nbformat": 4,
 "nbformat_minor": 5
}
