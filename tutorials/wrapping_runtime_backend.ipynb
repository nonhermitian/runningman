{
 "cells": [
  {
   "cell_type": "markdown",
   "id": "80803003-9f46-4e34-8f8d-7def115ecc8b",
   "metadata": {},
   "source": [
    "# Wrapping a Runtime backend into a RunningManBackend"
   ]
  },
  {
   "cell_type": "code",
   "execution_count": 1,
   "id": "6828e7e6-9b99-41db-9a10-0cebea38ace3",
   "metadata": {},
   "outputs": [],
   "source": [
    "from qiskit_ibm_runtime import QiskitRuntimeService\n",
    "\n",
    "import runningman as rm"
   ]
  },
  {
   "cell_type": "code",
   "execution_count": 2,
   "id": "68c7060f-9b01-4942-9a62-4b3913a5763b",
   "metadata": {},
   "outputs": [],
   "source": [
    "service = QiskitRuntimeService()"
   ]
  },
  {
   "cell_type": "markdown",
   "id": "46b5455d-4c1f-4750-9718-67223c896ac7",
   "metadata": {},
   "source": [
    "## Wrapping a Runtime backend"
   ]
  },
  {
   "cell_type": "code",
   "execution_count": 4,
   "id": "7ec598f7-4b0c-48df-bcd2-1d962f6aab30",
   "metadata": {},
   "outputs": [],
   "source": [
    "backend = service.backend('ibm_brisbane')"
   ]
  },
  {
   "cell_type": "code",
   "execution_count": 5,
   "id": "0e7b6198-da7f-47ba-b4ec-4ac9677f7e90",
   "metadata": {},
   "outputs": [],
   "source": [
    "rm_backend = rm.RunningManBackend(backend)"
   ]
  },
  {
   "cell_type": "code",
   "execution_count": null,
   "id": "73098d61-c0b6-481e-96dd-287d2cc3f0a5",
   "metadata": {},
   "outputs": [],
   "source": []
  }
 ],
 "metadata": {
  "kernelspec": {
   "display_name": "Python 3 (ipykernel)",
   "language": "python",
   "name": "python3"
  },
  "language_info": {
   "codemirror_mode": {
    "name": "ipython",
    "version": 3
   },
   "file_extension": ".py",
   "mimetype": "text/x-python",
   "name": "python",
   "nbconvert_exporter": "python",
   "pygments_lexer": "ipython3",
   "version": "3.12.6"
  }
 },
 "nbformat": 4,
 "nbformat_minor": 5
}
