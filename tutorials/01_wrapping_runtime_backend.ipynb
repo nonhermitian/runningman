{
 "cells": [
  {
   "cell_type": "markdown",
   "id": "80803003-9f46-4e34-8f8d-7def115ecc8b",
   "metadata": {},
   "source": [
    "# Wrapping a Runtime backend into a RunningManBackend\n",
    "\n",
    "To get `backend.run()` to work on an IBM Quantum system, it needs to be wrapped into a `RunningManBackend`.  Here is how you do it:"
   ]
  },
  {
   "cell_type": "code",
   "execution_count": 1,
   "id": "6828e7e6-9b99-41db-9a10-0cebea38ace3",
   "metadata": {},
   "outputs": [],
   "source": [
    "from qiskit_ibm_runtime import QiskitRuntimeService\n",
    "\n",
    "import runningman as rm"
   ]
  },
  {
   "cell_type": "code",
   "execution_count": 2,
   "id": "68c7060f-9b01-4942-9a62-4b3913a5763b",
   "metadata": {},
   "outputs": [],
   "source": [
    "service = QiskitRuntimeService()"
   ]
  },
  {
   "cell_type": "markdown",
   "id": "46b5455d-4c1f-4750-9718-67223c896ac7",
   "metadata": {},
   "source": [
    "## Wrapping a Runtime backend"
   ]
  },
  {
   "cell_type": "code",
   "execution_count": 6,
   "id": "7ec598f7-4b0c-48df-bcd2-1d962f6aab30",
   "metadata": {},
   "outputs": [],
   "source": [
    "backend = service.backend('ibm_brisbane', instance='ibm-q/open/main')"
   ]
  },
  {
   "cell_type": "code",
   "execution_count": 7,
   "id": "0e7b6198-da7f-47ba-b4ec-4ac9677f7e90",
   "metadata": {},
   "outputs": [],
   "source": [
    "rm_backend = rm.RunningManBackend(backend)"
   ]
  },
  {
   "cell_type": "markdown",
   "id": "1a167e32-5db4-4c67-8354-e27b246f6e99",
   "metadata": {},
   "source": [
    "At this point the `rm_backend` can be used as a regular backend, and now supports `backend.run()` and the standard result interface."
   ]
  },
  {
   "cell_type": "code",
   "execution_count": 8,
   "id": "995b5783-2664-4d09-8b6e-6dac479d0c10",
   "metadata": {},
   "outputs": [
    {
     "data": {
      "text/plain": [
       "RunningManBackend<name='ibm_brisbane', num_qubits=127, instance='ibm-q/open/main'>"
      ]
     },
     "execution_count": 8,
     "metadata": {},
     "output_type": "execute_result"
    }
   ],
   "source": [
    "rm_backend"
   ]
  },
  {
   "cell_type": "code",
   "execution_count": null,
   "id": "4c30f8e5-993b-4d9f-ae3c-a2cc3583bbd9",
   "metadata": {},
   "outputs": [],
   "source": []
  }
 ],
 "metadata": {
  "kernelspec": {
   "display_name": "Python 3 (ipykernel)",
   "language": "python",
   "name": "python3"
  },
  "language_info": {
   "codemirror_mode": {
    "name": "ipython",
    "version": 3
   },
   "file_extension": ".py",
   "mimetype": "text/x-python",
   "name": "python",
   "nbconvert_exporter": "python",
   "pygments_lexer": "ipython3",
   "version": "3.12.3"
  }
 },
 "nbformat": 4,
 "nbformat_minor": 5
}
