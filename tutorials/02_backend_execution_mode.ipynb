{
 "cells": [
  {
   "cell_type": "markdown",
   "id": "93216501-360a-4599-91ea-831a9a264e3d",
   "metadata": {},
   "source": [
    "# Backend execution modes\n",
    "\n",
    "Jobs submitted via `backend.run()` can optionally use one of the two Runtime execution modes.  Here is how you set those."
   ]
  },
  {
   "cell_type": "code",
   "execution_count": 1,
   "id": "71453c95-a93f-44c4-a7d5-d8192d77686f",
   "metadata": {},
   "outputs": [],
   "source": [
    "from qiskit import *\n",
    "\n",
    "import runningman as rm"
   ]
  },
  {
   "cell_type": "code",
   "execution_count": 2,
   "id": "b4e35035-f22f-4c8a-a046-289bb6d701cd",
   "metadata": {},
   "outputs": [],
   "source": [
    "provider = rm.RunningManProvider()"
   ]
  },
  {
   "cell_type": "code",
   "execution_count": 3,
   "id": "952b6fc3-7e9e-491d-bca4-94b1d9a770e6",
   "metadata": {},
   "outputs": [],
   "source": [
    "backend = provider.backend('ibm_brisbane')"
   ]
  },
  {
   "cell_type": "markdown",
   "id": "3a632fa8-5a03-45b8-bd86-cf78e4fe7601",
   "metadata": {},
   "source": [
    "## Set the backend execution mode"
   ]
  },
  {
   "cell_type": "code",
   "execution_count": 4,
   "id": "15ada613-e356-4f46-93e6-fc03e43a2c30",
   "metadata": {},
   "outputs": [
    {
     "data": {
      "text/plain": [
       "<RunningManMode('batch', mode_id='cxezjja6t010008cgbb0'>"
      ]
     },
     "execution_count": 4,
     "metadata": {},
     "output_type": "execute_result"
    }
   ],
   "source": [
    "backend.set_mode('batch')"
   ]
  },
  {
   "cell_type": "markdown",
   "id": "7fa9e979-a3ed-4128-baac-f4860956a571",
   "metadata": {},
   "source": [
    "Notice that the execution mode instance is returned, so you can use it if you want."
   ]
  },
  {
   "cell_type": "markdown",
   "id": "8cdb38b1-b841-423c-a9af-aeedb3478db5",
   "metadata": {},
   "source": [
    "## Get execution mode"
   ]
  },
  {
   "cell_type": "code",
   "execution_count": 5,
   "id": "ac16a915-92bf-410a-a719-924b16b11859",
   "metadata": {},
   "outputs": [
    {
     "data": {
      "text/plain": [
       "<RunningManMode('batch', mode_id='cxezjja6t010008cgbb0'>"
      ]
     },
     "execution_count": 5,
     "metadata": {},
     "output_type": "execute_result"
    }
   ],
   "source": [
    "backend.get_mode()"
   ]
  },
  {
   "cell_type": "markdown",
   "id": "f628ae17-5388-4594-b9a2-f5632f828dbb",
   "metadata": {},
   "source": [
    "## Clearing execution mode"
   ]
  },
  {
   "cell_type": "code",
   "execution_count": 6,
   "id": "d8848756-9510-4e81-ace2-3b51f4d47bb2",
   "metadata": {},
   "outputs": [],
   "source": [
    "backend.clear_mode()"
   ]
  },
  {
   "cell_type": "markdown",
   "id": "034e5da7-3ef9-4028-82f2-3c99890ba308",
   "metadata": {},
   "source": [
    "## Overwriting of execution mode"
   ]
  },
  {
   "cell_type": "code",
   "execution_count": 7,
   "id": "9dc31866-0977-4d3a-a2f1-bb0e0659c411",
   "metadata": {},
   "outputs": [
    {
     "data": {
      "text/plain": [
       "<RunningManMode('dedicated', mode_id='cxezjkj3ej4g008fz5a0'>"
      ]
     },
     "execution_count": 7,
     "metadata": {},
     "output_type": "execute_result"
    }
   ],
   "source": [
    "backend.set_mode('batch')\n",
    "backend.set_mode('session', overwrite=True)"
   ]
  },
  {
   "cell_type": "markdown",
   "id": "2214e6c6-97e1-4a25-94b8-ce6d3c9fd0e5",
   "metadata": {},
   "source": [
    "## Closing backend mode"
   ]
  },
  {
   "cell_type": "code",
   "execution_count": 8,
   "id": "ef422a93-b336-48c5-ad0a-4040afe2c347",
   "metadata": {},
   "outputs": [],
   "source": [
    "backend.close_mode()"
   ]
  },
  {
   "cell_type": "code",
   "execution_count": null,
   "id": "bfbd86db-46c0-4992-997e-fc229a7e4482",
   "metadata": {},
   "outputs": [],
   "source": []
  }
 ],
 "metadata": {
  "kernelspec": {
   "display_name": "Python 3 (ipykernel)",
   "language": "python",
   "name": "python3"
  },
  "language_info": {
   "codemirror_mode": {
    "name": "ipython",
    "version": 3
   },
   "file_extension": ".py",
   "mimetype": "text/x-python",
   "name": "python",
   "nbconvert_exporter": "python",
   "pygments_lexer": "ipython3",
   "version": "3.12.3"
  }
 },
 "nbformat": 4,
 "nbformat_minor": 5
}
