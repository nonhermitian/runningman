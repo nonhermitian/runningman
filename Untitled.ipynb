{
 "cells": [
  {
   "cell_type": "code",
   "execution_count": 1,
   "id": "df639a6f-ab00-4682-8cc4-c28760912852",
   "metadata": {},
   "outputs": [],
   "source": [
    "import runningman as rm"
   ]
  },
  {
   "cell_type": "code",
   "execution_count": 2,
   "id": "0e90542a-8528-4b3f-bafd-e3de2693b265",
   "metadata": {},
   "outputs": [],
   "source": [
    "provider = rm.RunningManProvider()"
   ]
  },
  {
   "cell_type": "code",
   "execution_count": 3,
   "id": "63db1ffd-840b-4e64-8e24-9fc4424a0220",
   "metadata": {},
   "outputs": [],
   "source": [
    "backend = provider.backend('ibm_yonsei')"
   ]
  },
  {
   "cell_type": "code",
   "execution_count": 4,
   "id": "ddd9fd7d-5acc-4653-bd2a-ba3ad9e6c5e3",
   "metadata": {},
   "outputs": [
    {
     "data": {
      "text/plain": [
       "Execution Options\n",
       "========================================\n",
       "⏵execution\n",
       "  max_execution_time     None\n",
       "  default_shots          4096\n",
       "  experimental           None\n",
       "⏵environment\n",
       "  log_level              WARNING\n",
       "  callback               None\n",
       "  job_tags               None\n",
       "  private                False\n",
       "⏵simulator\n",
       "  noise_model            None\n",
       "  seed_simulator         None\n",
       "  coupling_map           None\n",
       "  basis_gates            None"
      ]
     },
     "execution_count": 4,
     "metadata": {},
     "output_type": "execute_result"
    }
   ],
   "source": [
    "options = backend.get_execution_options()\n",
    "options"
   ]
  },
  {
   "cell_type": "code",
   "execution_count": 5,
   "id": "877b0b79-17f1-45d9-8ca0-b4811e962f8f",
   "metadata": {},
   "outputs": [],
   "source": [
    "options['execution']['default_shots'] = 1234"
   ]
  },
  {
   "cell_type": "code",
   "execution_count": 8,
   "id": "097d0390-139e-4624-b899-c8647307066f",
   "metadata": {},
   "outputs": [],
   "source": [
    "backend.set_execution_options(**options)"
   ]
  },
  {
   "cell_type": "code",
   "execution_count": 9,
   "id": "eb4dd1a9-f894-4d96-951f-14816002574c",
   "metadata": {},
   "outputs": [
    {
     "data": {
      "text/plain": [
       "Execution Options\n",
       "========================================\n",
       "⏵execution\n",
       "  max_execution_time     None\n",
       "  default_shots          1234\n",
       "  experimental           None\n",
       "⏵environment\n",
       "  log_level              WARNING\n",
       "  callback               None\n",
       "  job_tags               None\n",
       "  private                False\n",
       "⏵simulator\n",
       "  noise_model            None\n",
       "  seed_simulator         None\n",
       "  coupling_map           None\n",
       "  basis_gates            None"
      ]
     },
     "execution_count": 9,
     "metadata": {},
     "output_type": "execute_result"
    }
   ],
   "source": [
    "backend.get_execution_options()"
   ]
  },
  {
   "cell_type": "code",
   "execution_count": null,
   "id": "aa46cfee-4ef7-407c-b942-693a1693716e",
   "metadata": {},
   "outputs": [],
   "source": []
  }
 ],
 "metadata": {
  "kernelspec": {
   "display_name": "Python 3 (ipykernel)",
   "language": "python",
   "name": "python3"
  },
  "language_info": {
   "codemirror_mode": {
    "name": "ipython",
    "version": 3
   },
   "file_extension": ".py",
   "mimetype": "text/x-python",
   "name": "python",
   "nbconvert_exporter": "python",
   "pygments_lexer": "ipython3",
   "version": "3.12.6"
  }
 },
 "nbformat": 4,
 "nbformat_minor": 5
}
